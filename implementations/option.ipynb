{
 "cells": [
  {
   "cell_type": "code",
   "execution_count": 2,
   "metadata": {
    "collapsed": true
   },
   "outputs": [],
   "source": [
    "import numpy as np\n",
    "import matplotlib.pyplot as plt\n",
    "import random\n",
    "\n",
    "class Option():\n",
    "    def __init__(self, option):\n",
    "        self.name = option\n",
    "        # Set I (initiation set), beta (termination set), pi (policy) \n",
    "        self._setIBetaPi()\n",
    "        \n",
    "    def pickAction(self, state):\n",
    "        action_number = self.pi[state]\n",
    "        if action_number == 1:\n",
    "            action = \"left\"\n",
    "        elif action_number == 2:\n",
    "            action = \"up\"\n",
    "        elif action_number == 3:\n",
    "            action = \"right\"\n",
    "        elif action_number == 4:\n",
    "            action = \"down\"\n",
    "        # Return action number, used for intra-option model learning\n",
    "        return action, action_number\n",
    "               \n",
    "    def visualize(self):\n",
    "        plt.imshow(self.I)\n",
    "        plt.colorbar()\n",
    "        plt.title(\"Initiation set\")\n",
    "        plt.show()\n",
    "        plt.imshow(self.beta)\n",
    "        plt.colorbar()\n",
    "        plt.title(\"Termination set\")\n",
    "        plt.show()\n",
    "        plt.imshow(self.pi)\n",
    "        plt.colorbar()\n",
    "        plt.title(\"Policy\")\n",
    "        plt.show()\n",
    "        \n",
    "    def _setIBetaPi(self):\n",
    "        if self.name in [\"left\", \"up\", \"right\", \"down\"]:\n",
    "            self.I = np.ones((13, 13))    # Available everywhere\n",
    "            self.beta = np.ones((13, 13)) # Terminates everywhere\n",
    "            \n",
    "            if self.name == \"left\":\n",
    "                self.pi = np.ones((13, 13))     # Left  (1 everywhere)\n",
    "            elif self.name == \"up\":\n",
    "                self.pi = np.ones((13, 13)) + 1 # Up    (2 everywhere)\n",
    "            elif self.name == \"right\":\n",
    "                self.pi = np.ones((13, 13)) + 2 # Right (3 everywhere)\n",
    "            elif self.name == \"down\":\n",
    "                self.pi = np.ones((13, 13)) + 3 # Down  (4 everywhere)\n",
    "      \n",
    "        else :\n",
    "            self.I = np.zeros((13, 13))\n",
    "            self.beta = np.ones((13, 13))\n",
    "            self.pi = np.zeros((13, 13))\n",
    "            \n",
    "            if self.name == \"topleft->topright\":\n",
    "                self.I[1:6, 1:6] = self.I[6, 2] = 1\n",
    "                self.beta[1:6, 1:6] = 0\n",
    "                self.pi[1:6, 1:5] = self.pi[3, 5] = 3 # Right\n",
    "                self.pi[1:3, 5] = 4                   # Down\n",
    "                self.pi[6, 2] = self.pi[4:6, 5] = 2   # Up\n",
    "\n",
    "            if self.name == \"topleft->botleft\":\n",
    "                self.I[1:6, 1:6] = self.I[3, 6] = 1\n",
    "                self.beta[1:6, 1:6] = 0\n",
    "                self.pi[1:5, 1:6] = self.pi[5, 2] = 4 # Down\n",
    "                self.pi[5, 1] = 3                     # Right\n",
    "                self.pi[3, 6] = self.pi[5, 3:6] = 1   # Left\n",
    "\n",
    "            if self.name == \"botleft->topleft\":\n",
    "                self.I[7:12, 1:6] = self.I[10, 6] = 1\n",
    "                self.beta[7:12, 1:6] = 0\n",
    "                self.pi[8:12, 1:6] = self.pi[7, 2] = 2 # Up\n",
    "                self.pi[7, 1] = 3                      # Right\n",
    "                self.pi[7, 3:6] = self.pi[10, 6]  = 1  # Left\n",
    "            \n",
    "            if self.name == \"botleft->botright\":\n",
    "                self.I[7:12, 1:6] = self.I[6, 2] = 1\n",
    "                self.beta[7:12, 1:6] = 0\n",
    "                self.pi[7:12, 1:6] = self.pi[10, 5] = 3 # Right\n",
    "                self.pi[7:10, 5] = self.pi[6, 2] = 4    # Down\n",
    "                self.pi[11, 5] = 2                      # Up\n",
    "                \n",
    "            if self.name == \"topright->topleft\":\n",
    "                self.I[1:7, 7:12] = self.I[7, 9] = 1\n",
    "                self.beta[1:7, 7:12] = 0\n",
    "                self.pi[1:7, 8:12] = self.pi[3, 7] = 1 # Left\n",
    "                self.pi[7, 9] = self.pi[4:7, 7] = 2    # Up\n",
    "                self.pi[1:3, 7] = 4                    # Down\n",
    "                \n",
    "            if self.name == \"topright->botright\":\n",
    "                self.I[3, 6] = self.I[1:7, 7:12] = 1\n",
    "                self.beta[1:7, 7:12] = 0\n",
    "                self.pi[1:6, 7:12] = self.pi[6, 9] = 4 # Down\n",
    "                self.pi[3, 6] = self.pi[6, 7:9] = 3    # Right\n",
    "                self.pi[6, 10:12] = 1                  # Left\n",
    "            \n",
    "            if self.name == \"botright->botleft\":\n",
    "                self.I[8:12, 7:12] = self.I[7, 9] = 1\n",
    "                self.beta[8:12, 7:12] = 0\n",
    "                self.pi[8:12, 8:12] = self.pi[10, 7] = 1 # Left\n",
    "                self.pi[7, 9] = self.pi[8:10, 7] = 4     # Down\n",
    "                self.pi[11, 7] = 2                       # Up\n",
    "                \n",
    "            if self.name == \"botright->topright\":\n",
    "                self.I[8:12, 7:12] = self.I[10, 6] = 1\n",
    "                self.beta[8:12, 7:12] = 0\n",
    "                self.pi[9:12, 7:12] = self.pi[8, 9] = 2  # Up\n",
    "                self.pi[10, 6] = self.pi[8, 7:9] = 3     # Right\n",
    "                self.pi[8, 10:12] = 1                    # Left\n",
    "        \n",
    "    def __str__(self):\n",
    "        return self.name"
   ]
  },
  {
   "cell_type": "code",
   "execution_count": 3,
   "metadata": {},
   "outputs": [
    {
     "data": {
      "image/png": "[encoded data removed]",
      "text/plain": [
       "<matplotlib.figure.Figure at 0x10b375790>"
      ]
     },
     "metadata": {},
     "output_type": "display_data"
    },
    {
     "data": {
      "image/png": "[encoded data removed]",
      "text/plain": [
       "<matplotlib.figure.Figure at 0x10c9c67d0>"
      ]
     },
     "metadata": {},
     "output_type": "display_data"
    },
    {
     "data": {
      "image/png": "[encoded data removed]",
      "text/plain": [
       "<matplotlib.figure.Figure at 0x10ccaa450>"
      ]
     },
     "metadata": {},
     "output_type": "display_data"
    }
   ],
   "source": [
    "o = Option(\"topleft->topright\")\n",
    "o.visualize()"
   ]
  }
 ],
 "metadata": {
  "kernelspec": {
   "display_name": "Python 2",
   "language": "python",
   "name": "python2"
  },
  "language_info": {
   "codemirror_mode": {
    "name": "ipython",
    "version": 2
   },
   "file_extension": ".py",
   "mimetype": "text/x-python",
   "name": "python",
   "nbconvert_exporter": "python",
   "pygments_lexer": "ipython2",
   "version": "2.7.13"
  }
 },
 "nbformat": 4,
 "nbformat_minor": 2
}
