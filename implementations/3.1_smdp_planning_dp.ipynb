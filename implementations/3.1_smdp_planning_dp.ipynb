{
 "cells": [
  {
   "cell_type": "code",
   "execution_count": 1,
   "metadata": {
    "collapsed": true
   },
   "outputs": [],
   "source": [
    "import numpy as np\n",
    "import matplotlib.pyplot as plt\n",
    "from four_rooms import FourRoomsEnvironment\n",
    "from option import Option\n",
    "\n",
    "\"\"\" Simple agent planning with dynamic programming on state value function,\n",
    "    using stored P and R values learnt by a model learning agent \"\"\"\n",
    "class SMDPPlanningAgent():\n",
    "    def __init__(self, R_file=\"save/R_MC_estimates_100k.npy\", \n",
    "                 P_file=\"save/P_MC_estimates_100k.npy\"):\n",
    "        self.options = \\\n",
    "         [Option(\"left\"), Option(\"up\"), Option(\"right\"), Option(\"down\"),\n",
    "          Option(\"topleft->topright\"), Option(\"topleft->botleft\"),\n",
    "          Option(\"topright->topleft\"), Option(\"topright->botright\"),\n",
    "          Option(\"botleft->topleft\"), Option(\"botleft->botright\"),\n",
    "          Option(\"botright->botleft\"), Option(\"botright->topright\")]\n",
    "        self.current_option = None\n",
    "            \n",
    "        # Initialize state value table\n",
    "        n_states = 13 * 13\n",
    "        self.V = np.zeros(n_states) \n",
    "        \n",
    "        # Retrieve R and P tables previously learnt\n",
    "        self.R = np.load(R_file)\n",
    "        self.P = np.load(P_file)\n",
    "        \n",
    "    # Run synchronous value iteration \n",
    "    def learnValueFunction(self, threshold=0.01, visualize=True):\n",
    "        V_old = self.V\n",
    "        self.V = (self.R + np.dot(self.P[:, :], self.V)).max(axis=1)\n",
    "        while np.sum((self.V - V_old) ** 2) > threshold:\n",
    "            V_old = self.V\n",
    "            self.V = (self.R + np.dot(self.P, self.V)).max(axis=1)\n",
    "            if visualize:\n",
    "                self._visualizeValueFunction()\n",
    "    \n",
    "    def greedyPolicy(self, state):\n",
    "        # Check if current option is finishing here\n",
    "        if self.current_option is not None and \\\n",
    "                self.current_option.beta[state] == 1:\n",
    "            self.current_option = None\n",
    "                \n",
    "        # Pick new option greedily if needed\n",
    "        if self.current_option is None:\n",
    "            self._pickNewOptionGreedily(state)\n",
    "        \n",
    "        # Select action according to policy of current option \n",
    "        action, _ = self.current_option.pickAction(state)\n",
    "        return action\n",
    "        \n",
    "    # Pick new option according to model and state value function greedily\n",
    "    def _pickNewOptionGreedily(self, state):\n",
    "        s = self._sIdx(state)\n",
    "        option_index = np.argmax(self.R[s] + self.P[s].dot(self.V))\n",
    "        self.current_option = self.options[option_index]\n",
    "    \n",
    "    def _sIdx(self, state):\n",
    "        return state[0] * 13 + state[1]\n",
    "    \n",
    "    def _visualizeValueFunction(self):\n",
    "        plt.imshow(self.V.reshape(13, 13))\n",
    "        plt.colorbar()\n",
    "        plt.show()"
   ]
  },
  {
   "cell_type": "code",
   "execution_count": 2,
   "metadata": {},
   "outputs": [
    {
     "data": {
      "image/png": "[encoded data removed]",
      "text/plain": [
       "<matplotlib.figure.Figure at 0x10c00afd0>"
      ]
     },
     "metadata": {},
     "output_type": "display_data"
    },
    {
     "data": {
      "image/png": "[encoded data removed]",
      "text/plain": [
       "<matplotlib.figure.Figure at 0x10dbf7bd0>"
      ]
     },
     "metadata": {},
     "output_type": "display_data"
    },
    {
     "data": {
      "image/png": "[encoded data removed]",
      "text/plain": [
       "<matplotlib.figure.Figure at 0x10ddd5b90>"
      ]
     },
     "metadata": {},
     "output_type": "display_data"
    },
    {
     "data": {
      "image/png": "[encoded data removed]",
      "text/plain": [
       "<matplotlib.figure.Figure at 0x10dccd810>"
      ]
     },
     "metadata": {},
     "output_type": "display_data"
    }
   ],
   "source": [
    "agent = SMDPPlanningAgent()\n",
    "agent.learnValueFunction()"
   ]
  },
  {
   "cell_type": "code",
   "execution_count": 20,
   "metadata": {},
   "outputs": [
    {
     "name": "stdout",
     "output_type": "stream",
     "text": [
      "State = (1, 1), Option = topleft->topright, Action = right\n",
      "State = (1, 1), Option = topleft->topright, Action = right\n",
      "State = (1, 2), Option = topleft->topright, Action = right\n",
      "State = (1, 3), Option = topleft->topright, Action = right\n",
      "State = (1, 4), Option = topleft->topright, Action = right\n",
      "State = (1, 4), Option = topleft->topright, Action = right\n",
      "State = (2, 4), Option = topleft->topright, Action = right\n",
      "State = (3, 4), Option = topleft->topright, Action = right\n",
      "State = (4, 4), Option = topleft->topright, Action = right\n",
      "State = (4, 5), Option = topleft->topright, Action = up\n",
      "State = (5, 5), Option = topleft->topright, Action = up\n",
      "State = (4, 5), Option = topleft->topright, Action = up\n",
      "State = (3, 5), Option = topleft->topright, Action = right\n",
      "State = (3, 6), Option = right, Action = right\n",
      "State = (3, 6), Option = right, Action = right\n",
      "State = (3, 7), Option = down, Action = down\n",
      "State = (4, 7), Option = down, Action = down\n",
      "State = (5, 7), Option = topright->botright, Action = down\n",
      "State = (6, 7), Option = topright->botright, Action = right\n",
      "State = (6, 8), Option = topright->botright, Action = right\n",
      "State = (6, 9), Option = topright->botright, Action = down\n",
      "State = (6, 10), Option = topright->botright, Action = left\n",
      "State = (6, 9), Option = topright->botright, Action = down\n"
     ]
    }
   ],
   "source": [
    "from four_rooms import FourRoomsEnvironment\n",
    "\n",
    "env = FourRoomsEnvironment()\n",
    "\n",
    "def run_episode():\n",
    "    state = env.reset()\n",
    "    while True:\n",
    "        action = agent.greedyPolicy(state)\n",
    "        print(\"State = {}, Option = {}, Action = {}\".format(\n",
    "            state, agent.current_option, action))\n",
    "        next_state, reward, done = env.step(action)\n",
    "        state = next_state\n",
    "        if done:\n",
    "            break\n",
    "            \n",
    "run_episode()"
   ]
  }
 ],
 "metadata": {
  "kernelspec": {
   "display_name": "Python 2",
   "language": "python",
   "name": "python2"
  },
  "language_info": {
   "codemirror_mode": {
    "name": "ipython",
    "version": 2
   },
   "file_extension": ".py",
   "mimetype": "text/x-python",
   "name": "python",
   "nbconvert_exporter": "python",
   "pygments_lexer": "ipython2",
   "version": "2.7.13"
  }
 },
 "nbformat": 4,
 "nbformat_minor": 2
}
