{
 "cells": [
  {
   "cell_type": "code",
   "execution_count": 36,
   "metadata": {
    "collapsed": true
   },
   "outputs": [],
   "source": [
    "import numpy as np\n",
    "import matplotlib.pyplot as plt\n",
    "import random\n",
    "\n",
    "class FourRoomsEnvironment():\n",
    "    def __init__(self, start_loc=(1, 1), goal_loc=(7, 9)):\n",
    "        self.grid = self._createGrid(goal_loc)\n",
    "        self.start_loc = start_loc\n",
    "        if self.start_loc == \"random\":\n",
    "            self.state = self._generateRandomState()\n",
    "        else:\n",
    "            self.state = self.start_loc   # tuple (r, c)\n",
    "        self.done = 0.                    # flag for episode termination\n",
    "    \n",
    "    # Create grid as a numpy array containing :\n",
    "    # -1 at every inaccessible location\n",
    "    # 0 at every valid location except goal\n",
    "    # 1 at goal\n",
    "    def _createGrid(self, goal_loc, border_value=-1, goal_value=1):\n",
    "        grid = np.zeros((13, 13))\n",
    "        \n",
    "        # Create borders and horizontal and vertical central walls\n",
    "        grid[:, 0] = grid[:, 12] = grid[0, :] = grid[12, :] = \\\n",
    "        grid[6, 1] = grid[6, 3:6] = grid[7, 7:9] = grid[7, 10:12] = \\\n",
    "        grid[1:3, 6] = grid[4:10, 6] = grid[11, 6] = border_value\n",
    "        \n",
    "        # Create goal\n",
    "        grid[goal_loc] = 1\n",
    "        \n",
    "        return grid\n",
    "\n",
    "    def _generateRandomState(self):\n",
    "        row_indices, col_indices = np.where(self.grid == 0)\n",
    "        valid_locs = zip(list(row_indices), list(col_indices))\n",
    "        return random.choice(valid_locs)\n",
    "    \n",
    "    def step(self, action):\n",
    "        r, c = self.state\n",
    "        \n",
    "        # Create a list of 9 reachable locations (6 move successes, 3 failures)\n",
    "        # p(success) = 2 / 3, p(failure) = 1 / 3\n",
    "        reachable_locs = [(r, c - 1), (r, c + 1), (r - 1, c), (r + 1, c)]\n",
    "        if action == \"left\":\n",
    "            reachable_locs += [(r, c -1)] * 5\n",
    "        elif action == \"right\":\n",
    "            reachable_locs += [(r, c + 1)] * 5\n",
    "        elif action == \"up\":\n",
    "            reachable_locs += [(r - 1, c)] * 5\n",
    "        elif action == \"down\":\n",
    "            reachable_locs += [(r + 1, c)] * 5\n",
    "        else:\n",
    "            print \"Action should be 'left', 'right', 'up', or 'down'\"\n",
    "            return \n",
    "        \n",
    "        # Select target location randomly\n",
    "        target_loc = reachable_locs[random.randint(0, 8)]\n",
    "            \n",
    "        # If action leads to a wall, stay in place with reward 0\n",
    "        if self.grid[target_loc] < 0:\n",
    "            reward = 0.\n",
    "            \n",
    "        # If action leads to non-goal valid cell, move with reward 0\n",
    "        # If it leads to a goal cell, move with reward 1, and set done to True\n",
    "        else:\n",
    "            self.state = target_loc\n",
    "            reward = self.done = self.grid[target_loc]\n",
    "        \n",
    "        return self.state, reward, self.done\n",
    "\n",
    "    def reset(self):\n",
    "        if self.start_loc == \"random\":\n",
    "            self.state = self._generateRandomState()\n",
    "        else:\n",
    "            self.state = self.start_loc\n",
    "        self.done = 0.\n",
    "        return self.state\n",
    "    \n",
    "    def render(self):\n",
    "        plt.imshow(self.grid)\n",
    "        plt.colorbar()\n",
    "        plt.show()"
   ]
  },
  {
   "cell_type": "code",
   "execution_count": 38,
   "metadata": {},
   "outputs": [
    {
     "data": {
      "image/png": "[encoded data removed]",
      "text/plain": [
       "<matplotlib.figure.Figure at 0x109dd01d0>"
      ]
     },
     "metadata": {},
     "output_type": "display_data"
    },
    {
     "name": "stdout",
     "output_type": "stream",
     "text": [
      "random\n",
      "(10, 2)\n",
      "(2, 2)\n"
     ]
    }
   ],
   "source": [
    "env = FourRoomsEnvironment(start_loc=\"random\")\n",
    "env.render()\n",
    "\n",
    "print env.start_loc\n",
    "print env.state\n",
    "\n",
    "state = env.reset()\n",
    "print env.state"
   ]
  }
 ],
 "metadata": {
  "kernelspec": {
   "display_name": "Python 2",
   "language": "python",
   "name": "python2"
  },
  "language_info": {
   "codemirror_mode": {
    "name": "ipython",
    "version": 2
   },
   "file_extension": ".py",
   "mimetype": "text/x-python",
   "name": "python",
   "nbconvert_exporter": "python",
   "pygments_lexer": "ipython2",
   "version": "2.7.13"
  }
 },
 "nbformat": 4,
 "nbformat_minor": 2
}
